{
 "cells": [
  {
   "cell_type": "markdown",
   "id": "a45063a4-9c65-4c4e-9809-66c625ca36c8",
   "metadata": {},
   "source": [
    "# Simple regression analysis using scikit learn"
   ]
  },
  {
   "cell_type": "code",
   "execution_count": 1,
   "id": "b18e4a86-1e4c-42fe-a82c-0394ccd07bc5",
   "metadata": {},
   "outputs": [],
   "source": [
    "# Importing necessary libraries\n",
    "import pandas as pd\n",
    "import numpy as np\n",
    "import matplotlib.pyplot as plt\n",
    "from sklearn.model_selection import train_test_split\n",
    "from sklearn.linear_model import LinearRegression\n",
    "from sklearn.metrics import mean_squared_error\n"
   ]
  },
  {
   "cell_type": "code",
   "execution_count": 2,
   "id": "1e10ef14-d6e4-4e62-8416-15e6c56cdefa",
   "metadata": {},
   "outputs": [
    {
     "data": {
      "text/html": [
       "<div>\n",
       "<style scoped>\n",
       "    .dataframe tbody tr th:only-of-type {\n",
       "        vertical-align: middle;\n",
       "    }\n",
       "\n",
       "    .dataframe tbody tr th {\n",
       "        vertical-align: top;\n",
       "    }\n",
       "\n",
       "    .dataframe thead th {\n",
       "        text-align: right;\n",
       "    }\n",
       "</style>\n",
       "<table border=\"1\" class=\"dataframe\">\n",
       "  <thead>\n",
       "    <tr style=\"text-align: right;\">\n",
       "      <th></th>\n",
       "      <th>YearsExperience</th>\n",
       "      <th>Salary</th>\n",
       "    </tr>\n",
       "  </thead>\n",
       "  <tbody>\n",
       "    <tr>\n",
       "      <th>0</th>\n",
       "      <td>1.1</td>\n",
       "      <td>39343.0</td>\n",
       "    </tr>\n",
       "    <tr>\n",
       "      <th>1</th>\n",
       "      <td>1.3</td>\n",
       "      <td>46205.0</td>\n",
       "    </tr>\n",
       "    <tr>\n",
       "      <th>2</th>\n",
       "      <td>1.5</td>\n",
       "      <td>37731.0</td>\n",
       "    </tr>\n",
       "    <tr>\n",
       "      <th>3</th>\n",
       "      <td>2.0</td>\n",
       "      <td>43525.0</td>\n",
       "    </tr>\n",
       "    <tr>\n",
       "      <th>4</th>\n",
       "      <td>2.2</td>\n",
       "      <td>39891.0</td>\n",
       "    </tr>\n",
       "  </tbody>\n",
       "</table>\n",
       "</div>"
      ],
      "text/plain": [
       "   YearsExperience   Salary\n",
       "0              1.1  39343.0\n",
       "1              1.3  46205.0\n",
       "2              1.5  37731.0\n",
       "3              2.0  43525.0\n",
       "4              2.2  39891.0"
      ]
     },
     "execution_count": 2,
     "metadata": {},
     "output_type": "execute_result"
    }
   ],
   "source": [
    "# Load the dataset\n",
    "data = pd.read_csv('Salary_Data.csv')\n",
    "\n",
    "# Display the first few rows of the dataset\n",
    "data.head()"
   ]
  },
  {
   "cell_type": "code",
   "execution_count": 7,
   "id": "e1e23bd4-ef5d-475f-8b59-b42f9412aa17",
   "metadata": {},
   "outputs": [],
   "source": [
    "# Defining the feature (YearsExperience) and target (Salary)\n",
    "X = data[['YearsExperience']]  # Independent variable\n",
    "y = data['Salary']  # Dependent variable"
   ]
  },
  {
   "cell_type": "code",
   "execution_count": 9,
   "id": "b27b5c8c-0bf6-4db7-a1f5-afc0790b3de5",
   "metadata": {},
   "outputs": [
    {
     "name": "stdout",
     "output_type": "stream",
     "text": [
      "Training set size: 24, Test set size: 6\n"
     ]
    }
   ],
   "source": [
    "# Splitting the dataset into training and testing sets (80% training, 20% testing)\n",
    "X_train, X_test, y_train, y_test = train_test_split(X, y, test_size=0.2, random_state=42)\n",
    "\n",
    "# Display the split sizes\n",
    "#print(f\"Training set size: {X_train.shape[0]}, Test set size: {X_test.shape[0]}\")"
   ]
  },
  {
   "cell_type": "code",
   "execution_count": 11,
   "id": "66a7dfde-975a-4826-9bd4-0f5de661ef06",
   "metadata": {},
   "outputs": [
    {
     "data": {
      "text/plain": [
       "24"
      ]
     },
     "execution_count": 11,
     "metadata": {},
     "output_type": "execute_result"
    }
   ],
   "source": [
    "X_train.shape[0]"
   ]
  },
  {
   "cell_type": "code",
   "execution_count": 13,
   "id": "68b9f666-7102-4525-ad39-7647568ea9e9",
   "metadata": {},
   "outputs": [
    {
     "data": {
      "text/plain": [
       "6"
      ]
     },
     "execution_count": 13,
     "metadata": {},
     "output_type": "execute_result"
    }
   ],
   "source": [
    "X_test.shape[0]"
   ]
  },
  {
   "cell_type": "code",
   "execution_count": 15,
   "id": "5bc882ad-5b69-4966-83ad-8bbfaa810446",
   "metadata": {},
   "outputs": [
    {
     "data": {
      "text/plain": [
       "(    YearsExperience\n",
       " 28             10.3\n",
       " 24              8.7\n",
       " 12              4.0\n",
       " 0               1.1\n",
       " 4               2.2\n",
       " 16              5.1\n",
       " 5               2.9\n",
       " 13              4.1\n",
       " 11              4.0\n",
       " 22              7.9\n",
       " 1               1.3\n",
       " 2               1.5\n",
       " 25              9.0\n",
       " 3               2.0\n",
       " 21              7.1\n",
       " 26              9.5\n",
       " 18              5.9\n",
       " 29             10.5\n",
       " 20              6.8\n",
       " 7               3.2\n",
       " 10              3.9\n",
       " 14              4.5\n",
       " 19              6.0\n",
       " 6               3.0,\n",
       "     YearsExperience\n",
       " 27              9.6\n",
       " 15              4.9\n",
       " 23              8.2\n",
       " 17              5.3\n",
       " 8               3.2\n",
       " 9               3.7,\n",
       " 28    122391.0\n",
       " 24    109431.0\n",
       " 12     56957.0\n",
       " 0      39343.0\n",
       " 4      39891.0\n",
       " 16     66029.0\n",
       " 5      56642.0\n",
       " 13     57081.0\n",
       " 11     55794.0\n",
       " 22    101302.0\n",
       " 1      46205.0\n",
       " 2      37731.0\n",
       " 25    105582.0\n",
       " 3      43525.0\n",
       " 21     98273.0\n",
       " 26    116969.0\n",
       " 18     81363.0\n",
       " 29    121872.0\n",
       " 20     91738.0\n",
       " 7      54445.0\n",
       " 10     63218.0\n",
       " 14     61111.0\n",
       " 19     93940.0\n",
       " 6      60150.0\n",
       " Name: Salary, dtype: float64,\n",
       " 27    112635.0\n",
       " 15     67938.0\n",
       " 23    113812.0\n",
       " 17     83088.0\n",
       " 8      64445.0\n",
       " 9      57189.0\n",
       " Name: Salary, dtype: float64)"
      ]
     },
     "execution_count": 15,
     "metadata": {},
     "output_type": "execute_result"
    }
   ],
   "source": [
    "X_train, X_test, y_train, y_test"
   ]
  },
  {
   "cell_type": "code",
   "execution_count": 12,
   "id": "31443dc3-245e-4d15-a7cf-baf2f75fe5d7",
   "metadata": {},
   "outputs": [
    {
     "name": "stdout",
     "output_type": "stream",
     "text": [
      "Intercept: 25321.583011776813\n",
      "Slope: [9423.81532303]\n"
     ]
    }
   ],
   "source": [
    "# Initialize the Linear Regression model\n",
    "model = LinearRegression()\n",
    "\n",
    "# Train the model on the training data\n",
    "model.fit(X_train, y_train)\n",
    "\n",
    "#X_train = np.array(X_train).reshape(-1,1)\n",
    "\n",
    "# Output the model's intercept and coefficient (slope)\n",
    "print(f\"Intercept: {model.intercept_}\")\n",
    "print(f\"Slope: {model.coef_}\")"
   ]
  },
  {
   "cell_type": "code",
   "execution_count": 17,
   "id": "fb7330c1-e7ef-4631-a443-52d78f2e5daa",
   "metadata": {},
   "outputs": [
    {
     "ename": "NameError",
     "evalue": "name 'model' is not defined",
     "output_type": "error",
     "traceback": [
      "\u001b[1;31m---------------------------------------------------------------------------\u001b[0m",
      "\u001b[1;31mNameError\u001b[0m                                 Traceback (most recent call last)",
      "Cell \u001b[1;32mIn[17], line 1\u001b[0m\n\u001b[1;32m----> 1\u001b[0m model\u001b[38;5;241m.\u001b[39mintercept_\n",
      "\u001b[1;31mNameError\u001b[0m: name 'model' is not defined"
     ]
    }
   ],
   "source": [
    "model.intercept_"
   ]
  },
  {
   "cell_type": "code",
   "execution_count": 19,
   "id": "b1c0e1f4-2d74-4ef4-b3fa-9c98e42cc3cc",
   "metadata": {},
   "outputs": [
    {
     "ename": "NameError",
     "evalue": "name 'model' is not defined",
     "output_type": "error",
     "traceback": [
      "\u001b[1;31m---------------------------------------------------------------------------\u001b[0m",
      "\u001b[1;31mNameError\u001b[0m                                 Traceback (most recent call last)",
      "Cell \u001b[1;32mIn[19], line 1\u001b[0m\n\u001b[1;32m----> 1\u001b[0m model\u001b[38;5;241m.\u001b[39mcoef_\n",
      "\u001b[1;31mNameError\u001b[0m: name 'model' is not defined"
     ]
    }
   ],
   "source": [
    "model.coef_"
   ]
  },
  {
   "cell_type": "code",
   "execution_count": 14,
   "id": "a09fccab-4702-4056-95f7-b767cb3dbd19",
   "metadata": {},
   "outputs": [
    {
     "name": "stdout",
     "output_type": "stream",
     "text": [
      "Mean Squared Error: 49830096.85590839\n",
      "R-squared: 0.9024461774180497\n"
     ]
    }
   ],
   "source": [
    "#X_test = np.array(X_test).reshape(-1,1)\n",
    "\n",
    "# Make predictions on the test set\n",
    "y_pred = model.predict(X_test)\n",
    "\n",
    "# Evaluate the model using Mean Squared Error (MSE) and R-squared (R²)\n",
    "mse = mean_squared_error(y_test, y_pred)\n",
    "r_squared = model.score(X_test, y_test)\n",
    "\n",
    "print(f\"Mean Squared Error: {mse}\")\n",
    "print(f\"R-squared: {r_squared}\")"
   ]
  },
  {
   "cell_type": "code",
   "execution_count": 16,
   "id": "3c27a553-e534-451b-954f-e24060621b00",
   "metadata": {},
   "outputs": [
    {
     "data": {
      "image/png": "[encoded data removed]",
      "text/plain": [
       "<Figure size 640x480 with 1 Axes>"
      ]
     },
     "metadata": {},
     "output_type": "display_data"
    }
   ],
   "source": [
    "# Plotting the training data and regression line\n",
    "plt.scatter(X_train, y_train, color='blue', label='Training data')\n",
    "plt.plot(X_train, model.predict(X_train), color='red', label='Regression Line')\n",
    "\n",
    "# Plot the test data\n",
    "plt.scatter(X_test, y_test, color='green', label='Test data')\n",
    "\n",
    "# Add labels and title\n",
    "plt.title('Salary vs. Years of Experience')\n",
    "plt.xlabel('Years of Experience')\n",
    "plt.ylabel('Salary')\n",
    "plt.legend()\n",
    "plt.show()"
   ]
  },
  {
   "cell_type": "markdown",
   "id": "f87aa98d-af18-4806-ae25-a376703861ad",
   "metadata": {},
   "source": [
    "\n",
    "- Mean Squared Error (MSE): 49,830,096.86\n",
    "- R-squared (R²): 0.9024 (or 90.24%)\n",
    "Interpretation Using Darts Analogy\n",
    "Mean Squared Error (MSE = 49,830,096.86):\n",
    "\n",
    "Is it good? It depends.\n",
    "Why? While a high MSE value (49,830,096.86) suggests that the darts (predictions) are somewhat scattered, it’s important to understand the context:\n",
    "If the scale of your target (actual values) is also large, this MSE might be acceptable, indicating a reasonable average error in predictions.\n",
    "However, if the values you're predicting are typically much smaller, then this high MSE indicates poor performance.\n",
    "R-squared (R² = 0.9024 or 90.24%):\n",
    "\n",
    "Is it good? Yes, this is very good!\n",
    "Why? An R² value of 90.24% means that your model explains about 90% of the variance in the data. In the darts analogy, this is like saying that 90% of your darts are hitting close to the bullseye, indicating a very good model fit. It means that your predictions are highly accurate and that the model captures the majority of what influences the outcome.\n",
    "##### Conclusion\n",
    "In the darts analogy:\n",
    "MSE of 49,830,096.86: While the actual number is high, it’s the context that matters. You might want to consider the range of your actual values to fully understand if this is good or bad.\n",
    "R² of 90.24%: This is excellent! You are consistently hitting the target, indicating that your model is very effective at making accurate predictions."
   ]
  }
 ],
 "metadata": {
  "kernelspec": {
   "display_name": "Python 3 (ipykernel)",
   "language": "python",
   "name": "python3"
  },
  "language_info": {
   "codemirror_mode": {
    "name": "ipython",
    "version": 3
   },
   "file_extension": ".py",
   "mimetype": "text/x-python",
   "name": "python",
   "nbconvert_exporter": "python",
   "pygments_lexer": "ipython3",
   "version": "3.12.4"
  }
 },
 "nbformat": 4,
 "nbformat_minor": 5
}
